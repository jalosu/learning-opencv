{
 "cells": [
  {
   "cell_type": "markdown",
   "id": "de3405a7",
   "metadata": {},
   "source": [
    "\n",
    "# **OpenCV Día 1 — La cámara como matriz**\n",
    "**Objetivo del día:** Comprender la naturaleza matricial de las imágenes, los espacios de color más usados (BGR/RGB/HSV/LAB/YCrCb) y dominar las operaciones básicas de carga, visualización, guardado y conversión de color en OpenCV.\n",
    "\n",
    "**Requisitos:** Python ≥ 3.9, `opencv-python`, `numpy`, `matplotlib`.\n",
    "\n",
    "**Entregables:** \n",
    "- Scripts/notebook con ejemplos de carga y conversión de color.\n",
    "- Ejercicios resueltos con validaciones visuales y numéricas.\n"
   ]
  },
  {
   "cell_type": "markdown",
   "id": "56a26798",
   "metadata": {},
   "source": [
    "\n",
    "## 1. Fundamentos teóricos y matemáticos\n",
    "\n",
    "### 1.1 Imagen como función/matriz\n",
    "Una imagen digital puede modelarse como una función **muestrada y cuantizada**:\n",
    "$$\n",
    "I:\\Omega \\subset \\mathbb{Z}^2 \\to \\mathbb{R}^C,\\quad I(x,y) = \\big(I_1(x,y),\\dots,I_C(x,y)\\big)\n",
    "$$\n",
    "donde:\n",
    "- $$(x,y)$ son coordenadas de píxel en una retícula regular,\n",
    "- $C$ es el número de canales (1 en escala de grises, 3 en color),\n",
    "- la intensidad suele estar cuantizada en 8 bits $(0$–$255)$ o en punto flotante normalizado $[0,1]$.\n",
    "\n",
    "**Tensor de imagen:** En memoria práctica, una imagen color se representa como un tensor $H \\times W \\times C$, con **H** (alto), **W** (ancho) y **C** (canales). En OpenCV (Python), el orden por defecto es **BGR** para imágenes de 3 canales tipo `uint8`.\n"
   ]
  },
  {
   "cell_type": "markdown",
   "id": "59941744",
   "metadata": {},
   "source": [
    "\n",
    "### 1.2 Muestreo y cuantización\n",
    "- **Muestreo:** discretización espacial; la resolución $H\\times W$ fija la frecuencia de muestreo.\n",
    "- **Cuantización:** discretización en intensidad; típico: 8 bits $\\Rightarrow$ 256 niveles por canal.\n",
    "- **Tipos de datos (dtype):** `uint8` (0–255), `uint16` (0–65535), `float32` (0–1 o rangos arbitrarios).\n",
    "\n",
    "**Nota crítica:** Muchas funciones de OpenCV esperan rangos diferentes según el `dtype`. Por ejemplo, para `float32` normalizado, asegúrate de escalar correctamente antes/después de convertir color.\n"
   ]
  },
  {
   "cell_type": "markdown",
   "id": "1ab365df",
   "metadata": {},
   "source": [
    "\n",
    "### 1.3 Orden de canales y disposición en memoria\n",
    "- **Orden de canales:** OpenCV usa **BGR**, mientras que bibliotecas como `matplotlib` y PIL usan **RGB**.\n",
    "- **Strides:** el tensor de imagen tiene un **stride** (salto) por dimensión que determina el desplazamiento en memoria entre elementos adyacentes. Esto afecta el rendimiento y algunas vistas con slicing.\n",
    "- **Implicación práctica:** cuidado al mostrar con `matplotlib.imshow` (espera RGB). Convertir BGR→RGB para visualizar colores reales.\n"
   ]
  },
  {
   "cell_type": "markdown",
   "id": "99ab58a2",
   "metadata": {},
   "source": [
    "\n",
    "### 1.4 Espacios de color fundamentales\n",
    "1. **RGB/BGR**: espacio aditivo ligado al dispositivo. No es perceptualmente uniforme.\n",
    "2. **HSV** (Hue-Saturation-Value): separación de **tono** (ángulo en \\([0,360)\\)), **saturación** y **valor** (brillo). Útil para segmentación por color bajo variación de iluminación.\n",
    "3. **LAB** (CIELAB): diseñado para aproximar la percepción humana; casi uniforme perceptualmente. `L*` (luminosidad), `a*` (verde↔rojo), `b*` (azul↔amarillo). Requiere referencia de blanco (D65 por defecto en OpenCV al convertir desde sRGB).\n",
    "4. **YCrCb**: separación de luminancia (Y) y crominancia (Cr, Cb); útil en compresión y segmentación basada en luminancia.\n",
    "\n",
    "**Modelos matemáticos simplificados:**  \n",
    "- **HSV (normalizado):**\n",
    "  Sea \\((R,G,B)\\in[0,1]^3\\), \\(M=\\max(R,G,B)\\), \\(m=\\min(R,G,B)\\), \\(\\Delta=M-m\\).\n",
    "  \\[\n",
    "  V=M,\\quad S=\\begin{cases}\n",
    "  0 & \\text{si } M=0,\\\\\n",
    "  \\Delta/M & \\text{en otro caso}\n",
    "  \\end{cases}\n",
    "  \\]\n",
    "  El **tono** \\(H\\) (en grados) es:\n",
    "  \\[\n",
    "  H = \\begin{cases}\n",
    "  0 & \\Delta=0,\\\\\n",
    "  60^\\circ \\cdot \\big((G-B)/\\Delta \\bmod 6\\big) & M=R,\\\\\n",
    "  60^\\circ \\cdot \\big((B-R)/\\Delta + 2\\big) & M=G,\\\\\n",
    "  60^\\circ \\cdot \\big((R-G)/\\Delta + 4\\big) & M=B.\n",
    "  \\end{cases}\n",
    "  \\]\n",
    "- **YCrCb (BT.601 aprox., 8 bits):**\n",
    "  \\[\n",
    "  Y  = 0.299R + 0.587G + 0.114B,\\quad\n",
    "  Cb = \\frac{B - Y}{1.772},\\quad\n",
    "  Cr = \\frac{R - Y}{1.402}.\n",
    "  \\]\n",
    "- **LAB** se define vía un paso intermedio RGB→XYZ (lineal) y XYZ→LAB (no lineal); \n",
    "  \\(\\mathrm{LAB}\\) es más adecuado para distancias perceptuales (\\(\\Delta E\\)).\n"
   ]
  },
  {
   "cell_type": "markdown",
   "id": "4eb13793",
   "metadata": {},
   "source": [
    "\n",
    "### 1.5 Advertencias prácticas\n",
    "- **Gamma/sRGB:** RGB habitual es **no lineal** (curva sRGB). Convertir a LAB/HSV en OpenCV asume sRGB estándar. Si trabajas con datos lineales, documenta y conserva esa linealidad.\n",
    "- **Rangos:** `cv2.cvtColor` ajusta rangos según `dtype`. Para `uint8`, HSV usa \\(H\\in[0,179], S\\in[0,255], V\\in[0,255]\\) por eficiencia interna.\n",
    "- **Copias vs vistas:** Operaciones como `img[:,:,::-1]` crean vistas/c copias; medir con `np.shares_memory` si te importa el rendimiento/memoria.\n"
   ]
  },
  {
   "cell_type": "code",
   "execution_count": 1,
   "id": "66db626b",
   "metadata": {},
   "outputs": [
    {
     "name": "stdout",
     "output_type": "stream",
     "text": [
      "Python: 3.12.0\n",
      "OpenCV: 4.12.0\n",
      "NumPy: 2.1.3\n"
     ]
    }
   ],
   "source": [
    "\n",
    "# === Configuración inicial ===\n",
    "import sys, cv2, numpy as np, matplotlib.pyplot as plt\n",
    "\n",
    "print(\"Python:\", sys.version.split()[0])\n",
    "print(\"OpenCV:\", cv2.__version__)\n",
    "print(\"NumPy:\", np.__version__)\n"
   ]
  },
  {
   "cell_type": "code",
   "execution_count": 2,
   "id": "00c21447",
   "metadata": {},
   "outputs": [],
   "source": [
    "\n",
    "# Utilidad para mostrar imágenes (maneja BGR/RGB automáticamente)\n",
    "def imshow(title, img, bgr=True):\n",
    "    plt.figure()\n",
    "    if img.ndim == 2:\n",
    "        plt.imshow(img, cmap='gray')\n",
    "    else:\n",
    "        if bgr:\n",
    "            img = cv2.cvtColor(img, cv2.COLOR_BGR2RGB)\n",
    "        plt.imshow(img)\n",
    "    plt.title(title)\n",
    "    plt.axis('off')\n"
   ]
  },
  {
   "cell_type": "markdown",
   "id": "1dc473bd",
   "metadata": {},
   "source": [
    "\n",
    "## 2. Ejemplos prácticos guiados\n",
    "Para evitar dependencias de red, generaremos imágenes sintéticas y también podrás cargar tus propias imágenes si lo deseas.\n"
   ]
  },
  {
   "cell_type": "code",
   "execution_count": 3,
   "id": "fdda8a0c",
   "metadata": {},
   "outputs": [
    {
     "data": {
      "image/png": "[encoded data removed]",
      "text/plain": [
       "<Figure size 640x480 with 1 Axes>"
      ]
     },
     "metadata": {},
     "output_type": "display_data"
    }
   ],
   "source": [
    "\n",
    "# Generar una imagen sintética: gradiente + formas geométricas\n",
    "H, W = 300, 420\n",
    "x = np.linspace(0, 1, W, dtype=np.float32)\n",
    "y = np.linspace(0, 1, H, dtype=np.float32)\n",
    "X, Y = np.meshgrid(x, y)\n",
    "\n",
    "# Canales base en float [0,1]\n",
    "R = np.clip(X, 0, 1)\n",
    "G = np.clip(Y, 0, 1)\n",
    "B = np.clip(1 - 0.5*X - 0.5*Y, 0, 1)\n",
    "\n",
    "rgb = np.dstack([R, G, B]).copy()\n",
    "\n",
    "# Dibujar un círculo y un rectángulo en el canal R y G\n",
    "center = (W//3, H//2)\n",
    "radius = min(H, W)//6\n",
    "mask_circle = (np.square(np.arange(W) - center[0])[None,:] + np.square(np.arange(H) - center[1])[:,None]) <= radius**2\n",
    "rgb[...,0][mask_circle] = 1.0  # R más intenso en el círculo\n",
    "rgb[...,1][50:200, 260:380] = 0.2  # rectángulo con menos G\n",
    "\n",
    "# Convertimos a uint8 BGR para OpenCV\n",
    "bgr = (rgb[..., ::-1] * 255.0).astype(np.uint8)  # RGB->BGR\n",
    "imshow(\"Sintética BGR (visualizada en RGB)\", bgr, bgr=True)\n"
   ]
  },
  {
   "cell_type": "code",
   "execution_count": null,
   "id": "944cf2ca",
   "metadata": {},
   "outputs": [],
   "source": [
    "\n",
    "# (Opcional) Cargar tu propia imagen: coloca 'mi_imagen.jpg' junto a este notebook\n",
    "# Descomenta para probar con tu imagen real\n",
    "# bgr = cv2.imread('mi_imagen.jpg')\n",
    "# if bgr is None:\n",
    "#     raise FileNotFoundError(\"No se encontró 'mi_imagen.jpg'.\")\n",
    "# imshow(\"Mi imagen (BGR)\", bgr)\n"
   ]
  },
  {
   "cell_type": "markdown",
   "id": "67ec383e",
   "metadata": {},
   "source": [
    "\n",
    "### 2.1 Operaciones con canales y tipos\n",
    "- Separar y unir canales.\n",
    "- Inspeccionar `dtype`, forma, y rangos.\n"
   ]
  },
  {
   "cell_type": "code",
   "execution_count": null,
   "id": "c0e07551",
   "metadata": {},
   "outputs": [],
   "source": [
    "\n",
    "print(\"Forma:\", bgr.shape, \"dtype:\", bgr.dtype)\n",
    "b, g, r = cv2.split(bgr)\n",
    "print(\"Rango B:\", (b.min(), b.max()), \"Rango G:\", (g.min(), g.max()), \"Rango R:\", (r.min(), r.max()))\n",
    "\n",
    "# Reconstruir y verificar\n",
    "bgr_recon = cv2.merge([b, g, r])\n",
    "print(\"Reconstrucción idéntica:\", np.array_equal(bgr, bgr_recon))\n",
    "\n",
    "# Mostrar cada canal\n",
    "imshow(\"Canal R\", r, bgr=False)  # monocromo\n",
    "imshow(\"Canal G\", g, bgr=False)\n",
    "imshow(\"Canal B\", b, bgr=False)\n"
   ]
  },
  {
   "cell_type": "markdown",
   "id": "8098c456",
   "metadata": {},
   "source": [
    "\n",
    "### 2.2 Conversiones de color con `cv2.cvtColor`\n",
    "- **BGR↔RGB**\n",
    "- **BGR↔HSV**\n",
    "- **BGR↔LAB**\n",
    "- **BGR↔YCrCb**\n"
   ]
  },
  {
   "cell_type": "code",
   "execution_count": null,
   "id": "121014fd",
   "metadata": {},
   "outputs": [],
   "source": [
    "\n",
    "rgb_cv = cv2.cvtColor(bgr, cv2.COLOR_BGR2RGB)\n",
    "hsv = cv2.cvtColor(bgr, cv2.COLOR_BGR2HSV)\n",
    "lab = cv2.cvtColor(bgr, cv2.COLOR_BGR2LAB)\n",
    "ycrcb = cv2.cvtColor(bgr, cv2.COLOR_BGR2YCrCb)\n",
    "\n",
    "# Mostrar visualizaciones\n",
    "imshow(\"RGB (desde BGR)\", cv2.cvtColor(bgr, cv2.COLOR_BGR2RGB), bgr=False)\n",
    "# Para HSV/lab/YCrCb mostramos su reconversión a BGR para interpretar visualmente\n",
    "imshow(\"HSV->BGR\", cv2.cvtColor(hsv, cv2.COLOR_HSV2BGR), bgr=True)\n",
    "imshow(\"LAB->BGR\", cv2.cvtColor(lab, cv2.COLOR_LAB2BGR), bgr=True)\n",
    "imshow(\"YCrCb->BGR\", cv2.cvtColor(ycrcb, cv2.COLOR_YCrCb2BGR), bgr=True)\n"
   ]
  },
  {
   "cell_type": "markdown",
   "id": "7a9ad51f",
   "metadata": {},
   "source": [
    "\n",
    "### 2.3 Conversión manual (vectorizada) RGB→HSV (comprobación contra OpenCV)\n",
    "Implementaremos una versión vectorizada aproximada de RGB→HSV (en \\([0,1]\\)) y compararemos contra `cv2.cvtColor`.\n"
   ]
  },
  {
   "cell_type": "code",
   "execution_count": null,
   "id": "9e135061",
   "metadata": {},
   "outputs": [],
   "source": [
    "\n",
    "def rgb_to_hsv_manual(rgb_f32):\n",
    "    # rgb_f32: float32 en [0,1], forma HxWx3 (orden RGB)\n",
    "    R = rgb_f32[..., 0]\n",
    "    G = rgb_f32[..., 1]\n",
    "    B = rgb_f32[..., 2]\n",
    "    M = np.maximum(np.maximum(R, G), B)\n",
    "    m = np.minimum(np.minimum(R, G), B)\n",
    "    D = M - m + 1e-10  # evitar división 0\n",
    "    \n",
    "    V = M\n",
    "    S = np.where(M == 0, 0, D / (M + 1e-10))\n",
    "    \n",
    "    H = np.zeros_like(M, dtype=np.float32)\n",
    "    mask = (D > 1e-10)\n",
    "    # Casos\n",
    "    idx = (M == R) & mask\n",
    "    H[idx] = ( (G[idx] - B[idx]) / D[idx] ) % 6.0\n",
    "    idx = (M == G) & mask\n",
    "    H[idx] = ( (B[idx] - R[idx]) / D[idx] ) + 2.0\n",
    "    idx = (M == B) & mask\n",
    "    H[idx] = ( (R[idx] - G[idx]) / D[idx] ) + 4.0\n",
    "    H = H * 60.0 / 360.0  # normalizamos H a [0,1] (dividir por 360)\n",
    "    return np.dstack([H, S, V]).astype(np.float32)\n",
    "\n",
    "# Prepara imagen float RGB [0,1]\n",
    "rgb_f32 = cv2.cvtColor(bgr, cv2.COLOR_BGR2RGB).astype(np.float32) / 255.0\n",
    "hsv_manual = rgb_to_hsv_manual(rgb_f32)\n",
    "\n",
    "# OpenCV en uint8 -> convertimos a float [0,1] para comparar\n",
    "hsv_cv = cv2.cvtColor(bgr, cv2.COLOR_BGR2HSV).astype(np.float32)\n",
    "hsv_cv[...,0] = hsv_cv[...,0] / 179.0  # H\n",
    "hsv_cv[...,1] = hsv_cv[...,1] / 255.0  # S\n",
    "hsv_cv[...,2] = hsv_cv[...,2] / 255.0  # V\n",
    "\n",
    "# Error promedio\n",
    "mae = np.mean(np.abs(hsv_manual - hsv_cv))\n",
    "print(\"Error medio absoluto (HSV manual vs OpenCV):\", float(mae))\n",
    "\n",
    "# Visualización de H, S, V (manual)\n",
    "imshow(\"H (manual)\", (hsv_manual[...,0]*255).astype(np.uint8), bgr=False)\n",
    "imshow(\"S (manual)\", (hsv_manual[...,1]*255).astype(np.uint8), bgr=False)\n",
    "imshow(\"V (manual)\", (hsv_manual[...,2]*255).astype(np.uint8), bgr=False)\n"
   ]
  },
  {
   "cell_type": "markdown",
   "id": "e616bf84",
   "metadata": {},
   "source": [
    "\n",
    "### 2.4 Escritura y lectura en disco\n",
    "Guardaremos imágenes en distintos espacios y verificaremos su integridad.\n"
   ]
  },
  {
   "cell_type": "code",
   "execution_count": null,
   "id": "334d1866",
   "metadata": {},
   "outputs": [],
   "source": [
    "\n",
    "cv2.imwrite(\"synthetic_bgr.png\", bgr)\n",
    "cv2.imwrite(\"synthetic_rgb.png\", cv2.cvtColor(bgr, cv2.COLOR_BGR2RGB))\n",
    "cv2.imwrite(\"synthetic_hsv.png\", hsv)  # nota: valores HSV en rango uint8 propio de OpenCV\n",
    "print(\"Archivos guardados: synthetic_bgr.png, synthetic_rgb.png, synthetic_hsv.png\")\n"
   ]
  },
  {
   "cell_type": "markdown",
   "id": "13675dce",
   "metadata": {},
   "source": [
    "\n",
    "## 3. Ejercicios (nivel medio–alto)\n",
    "\n",
    "> **Consejo:** Documenta tus supuestos (rangos, dtypes, gamma) y ejecuta validaciones visuales y numéricas (MAE, PSNR).\n",
    "\n",
    "### Ejercicio 1 — **BGR↔RGB sin `cvtColor`**\n",
    "Implementa un conversor **BGR↔RGB** usando *slicing* y/o *views* de NumPy **sin crear copias innecesarias**.  \n",
    "- Mide si tu operación comparte memoria con la original (`np.shares_memory`).  \n",
    "- Verifica que la visualización con `matplotlib` muestra colores correctos.  \n",
    "- **Plus:** hazlo genérico para \\(C\\in\\{1,3,4\\}\\).\n",
    "\n",
    "### Ejercicio 2 — **RGB↔HSV vectorizado con bordes de caso**\n",
    "Implementa **RGB→HSV** y **HSV→RGB** totalmente vectorizados en float \\([0,1]\\) controlando **casos degenerados** (\\(\\Delta=0\\), saturación 0).  \n",
    "- Compara contra OpenCV con **MAE** < \\(5\\times10^{-3}\\).  \n",
    "- **Plus:** demuestra robustez con imágenes de ruido y con patrones de color sólidos.\n",
    "\n",
    "### Ejercicio 3 — **YCrCb controlado por luminancia**\n",
    "Convierte BGR→YCrCb, **modifica solo la Y** (por ejemplo, aplica una curva gamma o una normalización por percentiles 5–95) y reconstruye BGR.  \n",
    "- Demuestra que la **crominancia** (Cr, Cb) permanece inalterada.  \n",
    "- **Plus:** mide la diferencia de color percibida \\(\\Delta E_{ab}\\) convirtiendo temporalmente a LAB.\n",
    "\n",
    "### Ejercicio 4 — **LAB y percepción (ΔE)**\n",
    "Convierte dos imágenes BGR que difieran solo en una pequeña variación de `L*` y calcula \\(\\Delta E_{ab}\\).  \n",
    "- Muestra visualmente por qué LAB es preferible a RGB para medir diferencias perceptivas.  \n",
    "- **Plus:** investiga la relación entre \\(\\Delta E\\) y cambios de luminancia vs crominancia.\n",
    "\n",
    "### Ejercicio 5 — **Rangos y dtypes**\n",
    "Crea el mismo pipeline de conversiones con `uint8` y `float32` normalizado.  \n",
    "- Demuestra cómo cambian los rangos de HSV y las conversiones inversas.  \n",
    "- **Plus:** usa `np.testing.assert_allclose` con tolerancias diferentes según dtype.\n"
   ]
  },
  {
   "cell_type": "code",
   "execution_count": null,
   "id": "875f74b0",
   "metadata": {},
   "outputs": [],
   "source": [
    "\n",
    "# === Plantillas de inicio para ejercicios ===\n",
    "\n",
    "import numpy as np, cv2\n",
    "\n",
    "# Ejercicio 1: BGR<->RGB sin cvtColor\n",
    "def bgr_to_rgb_view(bgr_img):\n",
    "    # TODO: implementar como vista (evitar copias)\n",
    "    # Pista: usar slicing en el último eje\n",
    "    raise NotImplementedError\n",
    "\n",
    "def rgb_to_bgr_view(rgb_img):\n",
    "    # TODO: vista inversa\n",
    "    raise NotImplementedError\n",
    "\n",
    "# Ejercicio 2: RGB<->HSV vectorizado\n",
    "def rgb_to_hsv_vec(rgb_f32):\n",
    "    # rgb_f32: float32 [0,1]\n",
    "    raise NotImplementedError\n",
    "\n",
    "def hsv_to_rgb_vec(hsv_f32):\n",
    "    # hsv_f32: float32 [0,1] con H en [0,1] -> 0..360 mapeado a 0..1\n",
    "    raise NotImplementedError\n",
    "\n",
    "# Ejercicio 3: YCrCb controlado por luminancia\n",
    "def adjust_luma_ycrcb(bgr_img, func):\n",
    "    # func: callable sobre Y float [0,1] -> float [0,1]\n",
    "    raise NotImplementedError\n",
    "\n",
    "# Ejercicio 4: ΔE en LAB\n",
    "def deltaE_ab(lab1, lab2):\n",
    "    # lab*: float32 en el mismo espacio de referencia\n",
    "    dL = lab1[...,0]-lab2[...,0]\n",
    "    da = lab1[...,1]-lab2[...,1]\n",
    "    db = lab1[...,2]-lab2[...,2]\n",
    "    return np.sqrt(dL*dL + da*da + db*db)\n",
    "\n",
    "# Ejercicio 5: Comparativa dtypes\n",
    "def pipeline_dtype_compare(bgr_uint8):\n",
    "    # 1) En uint8\n",
    "    hsv_u8 = cv2.cvtColor(bgr_uint8, cv2.COLOR_BGR2HSV)\n",
    "    # 2) En float32 normalizado\n",
    "    bgr_f32 = bgr_uint8.astype(np.float32)/255.0\n",
    "    hsv_f32 = cv2.cvtColor((bgr_f32*255).astype(np.uint8), cv2.COLOR_BGR2HSV).astype(np.float32)\n",
    "    # Ajuste de rangos para comparar\n",
    "    hsv_f32[...,0] /= 179.0\n",
    "    hsv_f32[...,1] /= 255.0\n",
    "    hsv_f32[...,2] /= 255.0\n",
    "    return hsv_u8, hsv_f32\n"
   ]
  },
  {
   "cell_type": "markdown",
   "id": "672d8902",
   "metadata": {},
   "source": [
    "\n",
    "## 4. Sugerencias y pistas (sin soluciones completas)\n",
    "- Prefiere **vistas** (`view`) a copias: en NumPy, invertir los canales puede hacerse con `[..., ::-1]`.\n",
    "- Controla **rangos** siempre que cambies de `dtype`: convierte, opera y reconvierte.\n",
    "- Para **HSV→RGB**, construye sectores de \\(H\\) (sextantes) y combina con máscaras booleanas vectorizadas.\n",
    "- Para **LAB**, piensa en **XYZ** como intermediario; para fines prácticos, usa `cv2.cvtColor` para asegurar misma referencia de blanco.\n"
   ]
  },
  {
   "cell_type": "markdown",
   "id": "50252664",
   "metadata": {},
   "source": [
    "\n",
    "---\n",
    "\n",
    "## 5. Reflexión de cierre\n",
    "- ¿Qué **propiedades** conserva y cuáles **distorsiona** cada espacio de color?\n",
    "- ¿En qué **problemas reales** (segmentación por color, medición perceptual, compresión) usarías HSV, LAB o YCrCb?\n",
    "- ¿Qué **supuestos** (gamma, rangos, referencia de blanco) estás imponiendo sin darte cuenta?\n",
    "\n",
    "**Fecha de generación:** 2025-10-16 10:54:59\n"
   ]
  }
 ],
 "metadata": {
  "kernelspec": {
   "display_name": "Python 3 (ipykernel)",
   "language": "python",
   "name": "python3"
  },
  "language_info": {
   "codemirror_mode": {
    "name": "ipython",
    "version": 3
   },
   "file_extension": ".py",
   "mimetype": "text/x-python",
   "name": "python",
   "nbconvert_exporter": "python",
   "pygments_lexer": "ipython3",
   "version": "3.12.0"
  }
 },
 "nbformat": 4,
 "nbformat_minor": 5
}
