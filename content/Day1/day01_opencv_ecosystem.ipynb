{
 "cells": [
  {
   "cell_type": "markdown",
   "id": "a257207b",
   "metadata": {},
   "source": [
    "\n",
    "# Día 1 — OpenCV: Ecosistema, `cv::Mat`/NumPy, E/S y visualización\n",
    "\n",
    "**Objetivo del día:** entender el ecosistema de OpenCV en Python, dominar la estructura de una imagen como `numpy.ndarray` (análoga a `cv::Mat`), practicar la E/S (imágenes y vídeo) y visualizar correctamente en BGR/RGB/GRAY. Además, asentaremos bases matemáticas mínimas: tensores y color lineal vs. no lineal.\n",
    "\n",
    "> Este cuaderno forma parte de un Jupyter Book. Todos los fragmentos de código están pensados para ejecutarse en orden.\n"
   ]
  },
  {
   "cell_type": "markdown",
   "id": "6b4997ed",
   "metadata": {},
   "source": [
    "\n",
    "## Índice\n",
    "1. Ecosistema y conceptos clave\n",
    "2. `cv::Mat` vs `numpy.ndarray`: dtype, shape, strides, memoria\n",
    "3. Canales de color: BGR/RGB/GRAY y conversión\n",
    "4. ROI, copia vs. vista (copy vs. view)\n",
    "5. E/S de imágenes: `imread`, `imwrite`\n",
    "6. Vídeo con `VideoCapture`\n",
    "7. Cronometría: copias vs. vistas\n",
    "8. **Stretch**: `safe_imread` robusto\n",
    "9. Ejercicios (con soluciones ocultables)\n",
    "10. Lecturas y referencias\n"
   ]
  },
  {
   "cell_type": "markdown",
   "id": "c6ac2f1f",
   "metadata": {},
   "source": [
    "\n",
    "## 1. Ecosistema y conceptos clave\n",
    "\n",
    "- **OpenCV** (cv2) es una librería de visión por computador con _bindings_ para Python.\n",
    "- En Python, una imagen es un `numpy.ndarray` (filas × columnas × canales), análogo al `cv::Mat` de C++.\n",
    "- **Tipos de datos (`dtype`)**: típicamente `uint8` (0–255), aunque también se usan `float32` / `float64` para operaciones numéricas.\n",
    "- **Canales**: BGR (convención OpenCV), RGB (convención Matplotlib/PIL), y GRAY (monocanal).\n",
    "- **Layout de memoria**: _row-major_ (C-order). Las **strides** indican cuántos bytes hay que saltar para pasar al siguiente elemento de cada eje.\n",
    "- **ROI** (Region of Interest): submatrices que referencian la memoria original (vistas) o copias explícitas.\n",
    "- **I/O**: `cv2.imread`, `cv2.imwrite`, `cv2.VideoCapture`.\n"
   ]
  },
  {
   "cell_type": "markdown",
   "id": "f2867b36",
   "metadata": {},
   "source": [
    "\n",
    "## 2. Matemáticas mínimas: tensores y color lineal vs. no lineal\n",
    "\n",
    "- Una imagen en escala de grises es un **tensor orden 2** (matriz) \\(I \\in \\mathbb{R}^{H\\times W}\\). Una imagen color BGR/RGB es un **tensor orden 3** \\(I \\in \\mathbb{R}^{H\\times W\\times 3}\\).\n",
    "- Operaciones elementales (suma, resta, producto escalar) se aplican **por elemento** (broadcasting de NumPy).\n",
    "- **Espacio de color lineal vs. no lineal**: la mayoría de imágenes 8‑bit sRGB están **codificadas con una curva gamma** (no lineal). Para cálculos físicos (mezclas, filtros de energía) conviene **linealizar**:  \n",
    "  \\[L = V^{\\gamma}\\quad (\\text{aprox. } \\gamma \\approx 2.2),\\quad V=\\text{valor sRGB normalizado}\\]\n",
    "  y al finalizar **re-aplicar** la gamma inversa para visualizar.\n"
   ]
  },
  {
   "cell_type": "code",
   "execution_count": null,
   "id": "66388ad7",
   "metadata": {},
   "outputs": [],
   "source": [
    "\n",
    "import cv2\n",
    "import numpy as np\n",
    "import matplotlib.pyplot as plt\n",
    "from pathlib import Path\n",
    "\n",
    "# Ajustes de visualización en notebook\n",
    "plt.rcParams['figure.figsize'] = (8, 6)\n",
    "\n",
    "print(cv2.__version__)\n"
   ]
  },
  {
   "cell_type": "code",
   "execution_count": null,
   "id": "19192874",
   "metadata": {},
   "outputs": [],
   "source": [
    "\n",
    "# Generamos una imagen sintética de prueba (gradiente + círculo) y la guardamos\n",
    "synthetic = np.zeros((240, 320, 3), dtype=np.uint8)\n",
    "for y in range(synthetic.shape[0]):\n",
    "    synthetic[y, :, 1] = np.uint8(255 * y / synthetic.shape[0])  # canal G con gradiente vertical\n",
    "cv2.circle(synthetic, center=(160,120), radius=60, color=(255, 0, 0), thickness=-1)  # BGR: azul lleno\n",
    "\n",
    "out_dir = Path('/mnt/data')\n",
    "out_dir.mkdir(parents=True, exist_ok=True)\n",
    "synthetic_path = out_dir / 'synthetic.jpg'\n",
    "cv2.imwrite(str(synthetic_path), synthetic)\n",
    "synthetic_path\n"
   ]
  },
  {
   "cell_type": "markdown",
   "id": "2e6306ed",
   "metadata": {},
   "source": [
    "\n",
    "## 3. E/S de imágenes: `imread`, `imwrite` y comprobaciones básicas\n"
   ]
  },
  {
   "cell_type": "code",
   "execution_count": null,
   "id": "652de96a",
   "metadata": {},
   "outputs": [],
   "source": [
    "\n",
    "# RUTA DE ENTRADA: cambia 'synthetic_path' por tu imagen si lo deseas\n",
    "img_path = str(synthetic_path)  # por defecto usamos la imagen sintética\n",
    "img = cv2.imread(img_path, cv2.IMREAD_COLOR)\n",
    "\n",
    "if img is None:\n",
    "    raise FileNotFoundError(f\"No se pudo leer la imagen en {img_path}. Comprueba la ruta y permisos.\")\n",
    "\n",
    "print('dtype:', img.dtype)\n",
    "print('shape (H, W, C):', img.shape)\n",
    "print('strides (bytes):', img.strides)  # NumPy muestra strides en bytes\n",
    "\n",
    "# Guardamos una copia\n",
    "saved_path = str(out_dir / 'copy_saved.png')\n",
    "cv2.imwrite(saved_path, img)\n",
    "print('Guardada copia en:', saved_path)\n"
   ]
  },
  {
   "cell_type": "markdown",
   "id": "fdcea600",
   "metadata": {},
   "source": [
    "\n",
    "## 4. Visualización: BGR vs. RGB en la **misma celda**\n",
    "OpenCV usa **BGR**, mientras que Matplotlib espera **RGB**. Debemos convertir antes de mostrar.\n"
   ]
  },
  {
   "cell_type": "code",
   "execution_count": null,
   "id": "c5ae41ca",
   "metadata": {},
   "outputs": [],
   "source": [
    "\n",
    "fig, axes = plt.subplots(1, 2, figsize=(10,4))\n",
    "\n",
    "# Izquierda: mostrar el array en BGR (incorrecto en Matplotlib, pero lo forzamos para ilustrar la diferencia)\n",
    "axes[0].imshow(img)  # interpretado como RGB => colores \"raros\" porque el array está en BGR\n",
    "axes[0].set_title('Interpretado como RGB (input BGR)')\n",
    "axes[0].axis('off')\n",
    "\n",
    "# Derecha: conversión BGR->RGB correcta\n",
    "img_rgb = cv2.cvtColor(img, cv2.COLOR_BGR2RGB)\n",
    "axes[1].imshow(img_rgb)\n",
    "axes[1].set_title('Convertido a RGB (correcto)')\n",
    "axes[1].axis('off')\n",
    "\n",
    "plt.tight_layout()\n",
    "plt.show()\n"
   ]
  },
  {
   "cell_type": "markdown",
   "id": "dad72ed1",
   "metadata": {},
   "source": [
    "\n",
    "### Conversión a GRAY y verificación de canales\n"
   ]
  },
  {
   "cell_type": "code",
   "execution_count": null,
   "id": "d1a1836a",
   "metadata": {},
   "outputs": [],
   "source": [
    "\n",
    "gray = cv2.cvtColor(img, cv2.COLOR_BGR2GRAY)\n",
    "print('GRAY dtype:', gray.dtype, 'shape:', gray.shape)  # H, W\n",
    "plt.imshow(gray, cmap='gray'); plt.title('GRAY'); plt.axis('off'); plt.show()\n"
   ]
  },
  {
   "cell_type": "markdown",
   "id": "d00fb3eb",
   "metadata": {},
   "source": [
    "\n",
    "## 5. ROI, **vista** vs. **copia**\n",
    "Una **ROI** con slicing NumPy suele ser **vista** (comparte memoria). Si modificas la vista, se modifica el original. Usa `.copy()` si quieres aislarla.\n"
   ]
  },
  {
   "cell_type": "code",
   "execution_count": null,
   "id": "ab296e23",
   "metadata": {},
   "outputs": [],
   "source": [
    "\n",
    "h, w = img.shape[:2]\n",
    "roi = img[h//4: 3*h//4, w//4: 3*w//4]       # ROI central (vista)\n",
    "roi_copy = roi.copy()                       # copia independiente\n",
    "\n",
    "# Modificamos la vista: dibujamos un rectángulo rojo (BGR: (0,0,255)) en la ROI\n",
    "cv2.rectangle(roi, (5,5), (roi.shape[1]-6, roi.shape[0]-6), (0,0,255), 2)\n",
    "\n",
    "fig, axes = plt.subplots(1, 3, figsize=(12,4))\n",
    "axes[0].imshow(cv2.cvtColor(img, cv2.COLOR_BGR2RGB)); axes[0].set_title('Imagen (modificada vía ROI)'); axes[0].axis('off')\n",
    "axes[1].imshow(cv2.cvtColor(roi, cv2.COLOR_BGR2RGB)); axes[1].set_title('ROI (vista)'); axes[1].axis('off')\n",
    "axes[2].imshow(cv2.cvtColor(roi_copy, cv2.COLOR_BGR2RGB)); axes[2].set_title('ROI copy (aislada)'); axes[2].axis('off')\n",
    "plt.tight_layout(); plt.show()\n"
   ]
  },
  {
   "cell_type": "markdown",
   "id": "050d4948",
   "metadata": {},
   "source": [
    "\n",
    "## 6. Strides: cómo se recorre la memoria\n",
    "Las **strides** son el número de **bytes** que hay que saltar para avanzar una unidad en cada eje. En una imagen `H×W×C` `uint8`, típicamente:\n",
    "- `stride_H = W*C` bytes para saltar a la siguiente fila,\n",
    "- `stride_W = C` bytes para pasar al siguiente pixel en la fila,\n",
    "- `stride_C = 1` byte para pasar al siguiente canal del mismo pixel.\n"
   ]
  },
  {
   "cell_type": "code",
   "execution_count": null,
   "id": "d17a6a3e",
   "metadata": {},
   "outputs": [],
   "source": [
    "\n",
    "print(\"Strides img:\", img.strides, \" (bytes)\")\n",
    "print(\"dtype itemsize:\", img.dtype.itemsize, \"byte(s)\")\n",
    "print(\"Comprobación W*C:\", img.shape[1]*img.shape[2], \"vs stride fila en bytes:\", img.strides[0])\n"
   ]
  },
  {
   "cell_type": "markdown",
   "id": "ca3f39cd",
   "metadata": {},
   "source": [
    "\n",
    "## 7. Vídeo con `cv2.VideoCapture`\n",
    "Abrimos un archivo o webcam. En entornos sin cámara, este bloque simplemente informará y continuará.\n"
   ]
  },
  {
   "cell_type": "code",
   "execution_count": null,
   "id": "c1523bb8",
   "metadata": {},
   "outputs": [],
   "source": [
    "\n",
    "# Intenta abrir webcam; si falla, informa. En tu entorno, cambia por un archivo de vídeo si lo deseas.\n",
    "cap = cv2.VideoCapture(0)\n",
    "if not cap.isOpened():\n",
    "    print(\"No se pudo abrir la cámara. Prueba con un archivo de vídeo en su lugar.\")\n",
    "else:\n",
    "    ret, frame = cap.read()\n",
    "    cap.release()\n",
    "    if ret:\n",
    "        print(\"Frame leído:\", frame.shape, frame.dtype)\n",
    "        plt.imshow(cv2.cvtColor(frame, cv2.COLOR_BGR2RGB)); plt.title('Primer frame'); plt.axis('off'); plt.show()\n",
    "    else:\n",
    "        print(\"No se pudo leer un frame de la cámara.\")\n"
   ]
  },
  {
   "cell_type": "markdown",
   "id": "a78aa363",
   "metadata": {},
   "source": [
    "\n",
    "## 8. Cronometría: copia vs. vista\n",
    "Medimos tiempo de **copiar** (`.copy()`) frente a obtener una **vista** (slicing).\n"
   ]
  },
  {
   "cell_type": "code",
   "execution_count": null,
   "id": "852c09de",
   "metadata": {},
   "outputs": [],
   "source": [
    "\n",
    "import timeit\n",
    "\n",
    "setup = \"import numpy as np; import cv2; img=np.random.randint(0,256,(1080,1920,3),dtype=np.uint8)\"\n",
    "time_copy = timeit.timeit(\"roi=img[100:900,200:1700].copy()\", setup=setup, number=50)\n",
    "time_view = timeit.timeit(\"roi=img[100:900,200:1700]\", setup=setup, number=50)\n",
    "print(f\"Copia: {time_copy:.6f} s (50 iters)\")\n",
    "print(f\"Vista: {time_view:.6f} s (50 iters)\")\n"
   ]
  },
  {
   "cell_type": "markdown",
   "id": "d782ae40",
   "metadata": {},
   "source": [
    "\n",
    "## 9. **Stretch**: `safe_imread` (cargas con validación y errores con causa)\n",
    "Implementamos una función robusta para leer imágenes que:\n",
    "- Valida la ruta y la existencia del archivo,\n",
    "- Intenta leer en modo color/gray según parámetro,\n",
    "- Devuelve `(img, None)` si todo va bien; o `(None, error_message)` si algo falla.\n"
   ]
  },
  {
   "cell_type": "code",
   "execution_count": null,
   "id": "dfd2a140",
   "metadata": {},
   "outputs": [],
   "source": [
    "\n",
    "from typing import Optional, Tuple, Literal\n",
    "\n",
    "def safe_imread(path: str, mode: Literal['color','gray']='color') -> Tuple[Optional[np.ndarray], Optional[str]]:\n",
    "    \"\"\"Lee una imagen con validación de ruta y errores con causa.\n",
    "    \n",
    "    Parameters\n",
    "    ----------\n",
    "    path : str\n",
    "        Ruta al archivo de imagen.\n",
    "    mode : {'color','gray'}\n",
    "        Modo de lectura. 'color' => BGR, 'gray' => escala de grises.\n",
    "    \n",
    "    Returns\n",
    "    -------\n",
    "    (img, err) : Tuple[Optional[np.ndarray], Optional[str]]\n",
    "        img: np.ndarray si ok; None si falla.\n",
    "        err: None si ok; string con causa si falla.\n",
    "    \"\"\"\n",
    "    if not isinstance(path, (str, Path)):\n",
    "        return None, \"El parámetro 'path' debe ser str o Path.\"\n",
    "    p = Path(path)\n",
    "    if not p.exists():\n",
    "        return None, f\"El archivo no existe: {p}\"\n",
    "    if not p.is_file():\n",
    "        return None, f\"La ruta no es un archivo: {p}\"\n",
    "    \n",
    "    flag = cv2.IMREAD_COLOR if mode == 'color' else cv2.IMREAD_GRAYSCALE\n",
    "    img = cv2.imread(str(p), flag)\n",
    "    if img is None:\n",
    "        return None, \"cv2.imread devolvió None. Puede ser un formato no soportado o un archivo corrupto.\"\n",
    "    return img, None\n",
    "\n",
    "# Prueba con nuestra imagen sintética\n",
    "ok_img, err = safe_imread(synthetic_path, mode='color')\n",
    "print(\"OK:\", ok_img is not None, \"| Error:\", err)\n"
   ]
  },
  {
   "cell_type": "markdown",
   "id": "b03c9c8e",
   "metadata": {},
   "source": [
    "\n",
    "## 10. Ejercicios (con soluciones ocultables)\n",
    "\n",
    "**Ejercicio 1.** Carga una imagen desde disco, imprime su `dtype`, `shape` y `strides`.  \n",
    "**Ejercicio 2.** Muestra la misma imagen en BGR y en RGB en una **misma salida** con subplots.  \n",
    "**Ejercicio 3.** Extrae una ROI central como **vista**, dibuja un rectángulo y verifica que se modifica la imagen original. Repite con `.copy()` y verifica que **no** afecta al original.  \n",
    "**Ejercicio 4.** Convierte tu imagen a GRAY y guarda el resultado en PNG.  \n",
    "**Ejercicio 5.** Mide el tiempo (con `timeit`) de crear una vista vs. una copia para una ROI grande.\n",
    "\n",
    "<details>\n",
    "<summary><b>Solución (mostrar/ocultar)</b></summary>\n",
    "\n",
    "```python\n",
    "# Ejercicio 1\n",
    "img2, err = safe_imread(synthetic_path)\n",
    "assert err is None\n",
    "print(img2.dtype, img2.shape, img2.strides)\n",
    "\n",
    "# Ejercicio 2\n",
    "fig, axes = plt.subplots(1,2, figsize=(10,4))\n",
    "axes[0].imshow(img2)  # BGR mal interpretado como RGB\n",
    "axes[0].set_title('Interpretado como RGB (input BGR)'); axes[0].axis('off')\n",
    "axes[1].imshow(cv2.cvtColor(img2, cv2.COLOR_BGR2RGB))\n",
    "axes[1].set_title('Convertido a RGB'); axes[1].axis('off')\n",
    "plt.tight_layout(); plt.show()\n",
    "\n",
    "# Ejercicio 3\n",
    "h, w = img2.shape[:2]\n",
    "roi_v = img2[h//4:3*h//4, w//4:3*w//4]  # vista\n",
    "cv2.rectangle(roi_v, (5,5), (roi_v.shape[1]-6, roi_v.shape[0]-6), (0,255,0), 2)\n",
    "plt.imshow(cv2.cvtColor(img2, cv2.COLOR_BGR2RGB)); plt.title('Original modificado'); plt.axis('off'); plt.show()\n",
    "\n",
    "img2b = img2.copy()\n",
    "roi_c = img2b[h//4:3*h//4, w//4:3*w//4].copy()  # copia\n",
    "cv2.circle(roi_c, (roi_c.shape[1]//2, roi_c.shape[0]//2), 20, (255,0,255), 2)\n",
    "# No afecta a img2b\n",
    "fig, ax = plt.subplots(1,2, figsize=(10,4))\n",
    "ax[0].imshow(cv2.cvtColor(img2b, cv2.COLOR_BGR2RGB)); ax[0].set_title('Original (intacto)'); ax[0].axis('off')\n",
    "ax[1].imshow(cv2.cvtColor(roi_c, cv2.COLOR_BGR2RGB)); ax[1].set_title('ROI copia (modificada)'); ax[1].axis('off')\n",
    "plt.tight_layout(); plt.show()\n",
    "\n",
    "# Ejercicio 4\n",
    "gray2 = cv2.cvtColor(img2, cv2.COLOR_BGR2GRAY)\n",
    "out_gray = str(out_dir / 'resultado_gray.png')\n",
    "cv2.imwrite(out_gray, gray2)\n",
    "\n",
    "# Ejercicio 5\n",
    "import timeit\n",
    "setup = \"import numpy as np; img=np.random.randint(0,256,(1080,1920,3),dtype=np.uint8)\"\n",
    "print('copy:', timeit.timeit(\"roi=img[100:900,200:1700].copy()\", setup=setup, number=50))\n",
    "print('view:', timeit.timeit(\"roi=img[100:900,200:1700]\", setup=setup, number=50))\n",
    "```\n",
    "</details>\n"
   ]
  },
  {
   "cell_type": "markdown",
   "id": "2deb99b9",
   "metadata": {},
   "source": [
    "\n",
    "## 11. Lecturas y referencias\n",
    "\n",
    "- Documentación oficial de OpenCV (Python): https://docs.opencv.org/\n",
    "- Tutoriales (OpenCV-Python Tutorials): https://docs.opencv.org/master/d6/d00/tutorial_py_root.html\n",
    "- NumPy: https://numpy.org/doc/stable/\n",
    "- sRGB vs. linear (curva gamma): especificación sRGB IEC 61966-2-1; explicación práctica: https://entropymine.com/imageworsener/gamma/\n",
    "- Matplotlib (para visualización): https://matplotlib.org/stable/\n"
   ]
  },
  {
   "cell_type": "markdown",
   "id": "20e5444d",
   "metadata": {},
   "source": [
    "\n",
    "## Anexo: `imshow(title, img, bgr=True)`\n",
    "Una utilidad habitual para evitar errores de conversión de color.\n"
   ]
  },
  {
   "cell_type": "code",
   "execution_count": null,
   "id": "4c8c4a81",
   "metadata": {},
   "outputs": [],
   "source": [
    "\n",
    "def imshow(title, img, bgr=True):\n",
    "    plt.figure()\n",
    "    if img.ndim == 2:\n",
    "        plt.imshow(img, cmap='gray')\n",
    "    else:\n",
    "        if bgr:\n",
    "            img = cv2.cvtColor(img, cv2.COLOR_BGR2RGB)\n",
    "        plt.imshow(img)\n",
    "    plt.title(title)\n",
    "    plt.axis('off')\n",
    "\n",
    "# Ejemplo en una MISMA celda: mostrar BGR y RGB lado a lado usando la función\n",
    "fig, axes = plt.subplots(1, 2, figsize=(10,4))\n",
    "axes[0].imshow(img)  # BGR mal interpretado como RGB\n",
    "axes[0].set_title('BGR interpretado como RGB'); axes[0].axis('off')\n",
    "axes[1].imshow(cv2.cvtColor(img, cv2.COLOR_BGR2RGB))\n",
    "axes[1].set_title('RGB correcto'); axes[1].axis('off')\n",
    "plt.tight_layout(); plt.show()\n"
   ]
  }
 ],
 "metadata": {
  "kernelspec": {
   "display_name": "Python 3 (ipykernel)",
   "language": "python",
   "name": "python3"
  },
  "language_info": {
   "codemirror_mode": {
    "name": "ipython",
    "version": 3
   },
   "file_extension": ".py",
   "mimetype": "text/x-python",
   "name": "python",
   "nbconvert_exporter": "python",
   "pygments_lexer": "ipython3",
   "version": "3.12.11"
  }
 },
 "nbformat": 4,
 "nbformat_minor": 5
}
